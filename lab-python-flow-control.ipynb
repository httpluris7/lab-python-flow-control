{
 "cells": [
  {
   "cell_type": "markdown",
   "id": "d3bfc191-8885-42ee-b0a0-bbab867c6f9f",
   "metadata": {
    "tags": []
   },
   "source": [
    "# Lab | Flow Control"
   ]
  },
  {
   "cell_type": "markdown",
   "id": "3851fcd1-cf98-4653-9c89-e003b7ec9400",
   "metadata": {},
   "source": [
    "## Exercise: Managing Customer Orders Optimized\n",
    "\n",
    "In the last lab, you were starting an online store that sells various products. To ensure smooth operations, you developed a program that manages customer orders and inventory.\n",
    "\n",
    "You did so without using flow control. Let's go a step further and improve this code.\n",
    "\n",
    "Follow the steps below to complete the exercise:\n",
    "\n",
    "1. Look at your code from the lab data structures, and improve repeated code with loops.\n",
    "\n",
    "2. Instead of asking the user to input the name of three products that a customer wants to order, do the following:\n",
    "    \n",
    "    a. Prompt the user to enter the name of a product that a customer wants to order.\n",
    "    \n",
    "    b. Add the product name to the \"customer_orders\" set.\n",
    "    \n",
    "    c. Ask the user if they want to add another product (yes/no).\n",
    "    \n",
    "    d. Continue the loop until the user does not want to add another product.\n",
    "\n",
    "3. Instead of updating the inventory by subtracting 1 from the quantity of each product, only do it for  the products that were ordered (those in \"customer_orders\")."
   ]
  },
  {
   "cell_type": "code",
   "execution_count": null,
   "id": "b24d7510",
   "metadata": {},
   "outputs": [],
   "source": [
    "\n",
    "\n",
    "products = [\"t-shirt\", \"mug\", \"hat\", \"book\", \"keychain\"]\n",
    "inventory = {}\n",
    "inventory[\"t-shirt\"] = int(input(\"Quantity of t-shirt: \"))\n",
    "inventory[\"mug\"] = int(input(\"Quantity of mug: \"))\n",
    "inventory[\"hat\"] = int(input(\"Quantity of hat: \"))\n",
    "inventory[\"book\"] = int(input(\"Quantity of book: \"))\n",
    "inventory[\"keychain\"] = int(input(\"Quantity of keychain: \"))\n",
    "\n",
    "\n",
    "\n",
    "customers_order = {(input(\"De estos productos t-shirt, mug, hat, book, keychain , elige el producto : \")) , \n",
    "(input(\"De estos productos t-shirt, mug, hat, book, keychain , elige el producto : \")) , \n",
    "(input(\"De estos productos t-shirt, mug, hat, book, keychain , elige el producto : \"))\n",
    "}\n",
    "\n",
    "print(customers_order)\n",
    "\n",
    "\n",
    "total_products = 10 + 10 + 10 + 10 + 10   #Suponemos que hay 10 unidades de cada item\n",
    "\n",
    "total_costumers_order = 3\n",
    "total_costumers_orderStr = str(total_costumers_order)\n",
    "\n",
    "percetage_costumers_order = (total_costumers_order / total_products) * 100\n",
    "percetage_costumers_orderStr = str(percetage_costumers_order)\n",
    "\n",
    "order_status = (50, 3, \"6%\")\n",
    "\n",
    "print(\"Order Statistics: \\n\" + \"Total products ordered: \" + total_costumers_orderStr + \"\\n\" + \"Percentage of product ordered: \" + percetage_costumers_orderStr + \"%\")\n",
    "\n",
    "inventory[\"t-shirt\"] -= 1\n",
    "inventory[\"mug\"] -= 1\n",
    "inventory[\"hat\"] -= 1\n",
    "inventory[\"book\"] -= 1\n",
    "inventory[\"keychain\"] -= 1\n",
    "\n",
    "print(inventory)"
   ]
  },
  {
   "cell_type": "code",
   "execution_count": null,
   "id": "489534a4",
   "metadata": {},
   "outputs": [],
   "source": [
    "for producto in products:\n",
    "    if inventory.get(producto, 0) > 0:\n",
    "        inventory[producto] -= 1\n",
    "    else:\n",
    "        print(\"No hay stoch para descontar\")"
   ]
  },
  {
   "cell_type": "code",
   "execution_count": 10,
   "id": "d595141d",
   "metadata": {},
   "outputs": [
    {
     "name": "stdout",
     "output_type": "stream",
     "text": [
      "Elige un producto de la lista products: \n",
      "Elige un producto de la lista products: \n",
      "Elige un producto de la lista products: \n",
      "Productos seleccionados:  {'mug', 'hat', 'book'}\n"
     ]
    }
   ],
   "source": [
    "max_products = 3\n",
    "\n",
    "i = 1\n",
    "\n",
    "customers_order = set()\n",
    "\n",
    "products = [\"t-shirt\", \"mug\", \"hat\", \"book\", \"keychain\"]\n",
    "\n",
    "for i in range(max_products):\n",
    "    producto = input(print(\"Elige un producto de la lista products: \"))\n",
    "    if producto in products:\n",
    "        customers_order.add(producto)\n",
    "    else:\n",
    "        print(\"Producto no valido\")\n",
    "\n",
    "i += 1\n",
    "\n",
    "print(\"Productos seleccionados: \", customers_order)"
   ]
  },
  {
   "cell_type": "code",
   "execution_count": 17,
   "id": "2f659c7d",
   "metadata": {},
   "outputs": [
    {
     "name": "stdout",
     "output_type": "stream",
     "text": [
      "hat agregado al pedido\n",
      "book agregado al pedido\n",
      "keychain agregado al pedido\n"
     ]
    }
   ],
   "source": [
    "customers_order = set()\n",
    "\n",
    "while True:\n",
    "    producto = input(f\"Elige un producto de esta lista {products}:\")\n",
    "\n",
    "    if producto in products:\n",
    "        if inventory[producto] > 0:\n",
    "            customers_order.add(producto)\n",
    "            inventory[producto] -= 1\n",
    "            print(f\"{producto} agregado al pedido\")\n",
    "        else:\n",
    "            print(f\"No hay stock disponible de producto\")\n",
    "    else:\n",
    "        print(\"producto no valido\")\n",
    "\n",
    "    continuar = input(\"¿quieres seguir comprando? (si/no) \")\n",
    "    if continuar != \"si\":\n",
    "        break\n"
   ]
  }
 ],
 "metadata": {
  "kernelspec": {
   "display_name": "Python 3",
   "language": "python",
   "name": "python3"
  },
  "language_info": {
   "codemirror_mode": {
    "name": "ipython",
    "version": 3
   },
   "file_extension": ".py",
   "mimetype": "text/x-python",
   "name": "python",
   "nbconvert_exporter": "python",
   "pygments_lexer": "ipython3",
   "version": "3.11.2"
  }
 },
 "nbformat": 4,
 "nbformat_minor": 5
}
